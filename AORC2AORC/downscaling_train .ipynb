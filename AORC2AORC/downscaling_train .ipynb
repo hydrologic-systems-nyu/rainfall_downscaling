{
 "cells": [
  {
   "cell_type": "markdown",
   "id": "e2b1934b",
   "metadata": {},
   "source": [
    "#### spateGAN-ERA5 spatiotemporal precipitation downscaling example\n",
    "https://doi.org/10.48550/arXiv.2411.16098"
   ]
  },
  {
   "cell_type": "code",
   "execution_count": 1,
   "id": "6a9cb56e-a51d-4709-aa0c-4521887d90b1",
   "metadata": {},
   "outputs": [],
   "source": [
    "%load_ext autoreload\n",
    "%autoreload 2\n",
    "import torch\n",
    "from model import Generator  \n",
    "from train import train, validation\n",
    "from data import readFile, make_temporal_batches, block_average_pooling\n",
    "import xarray as xr\n",
    "import numpy as np\n",
    "from einops import rearrange"
   ]
  },
  {
   "cell_type": "code",
   "execution_count": 2,
   "id": "8288442a-e03c-41d2-a166-6e5972b4b3e0",
   "metadata": {},
   "outputs": [
    {
     "name": "stdout",
     "output_type": "stream",
     "text": [
      "cpu\n"
     ]
    }
   ],
   "source": [
    "device = torch.device('cuda' if torch.cuda.is_available() else 'cpu')\n",
    "print(device)"
   ]
  },
  {
   "cell_type": "markdown",
   "id": "3b35eeef-7193-4377-917f-6d9335757717",
   "metadata": {},
   "source": [
    "#### load model and weights and run the model\n"
   ]
  },
  {
   "cell_type": "markdown",
   "id": "d4656dab-1854-4faf-b167-f1a32b49f8e3",
   "metadata": {
    "jp-MarkdownHeadingCollapsed": true
   },
   "source": [
    "#### AORC to AORC"
   ]
  },
  {
   "cell_type": "code",
   "execution_count": null,
   "id": "74e943bf-d4a8-4ad3-a493-0d62ab7f5a49",
   "metadata": {},
   "outputs": [
    {
     "name": "stdout",
     "output_type": "stream",
     "text": [
      "final shape (365, 24, 126, 186)\n",
      "(365, 24, 126, 186)\n"
     ]
    }
   ],
   "source": [
    "data_aorc = readFile('data/aorc_high/APCP_surface_2011*.nc', 'APCP_surface', 24, 126, 186)\n",
    "data_aorc = data_aorc.reshape(-1, 24, 1, 126, 186).sum(axis=2)\n",
    "mean_val = np.nanmean(data_aorc)\n",
    "data_aorc = np.where(np.isnan(data_aorc), mean_val, data_aorc)\n",
    "print(data_aorc.shape)"
   ]
  },
  {
   "cell_type": "code",
   "execution_count": null,
   "id": "0b4c53a9-0937-4fac-9375-9aa626243897",
   "metadata": {},
   "outputs": [
    {
     "name": "stdout",
     "output_type": "stream",
     "text": [
      "final shape (365, 24, 21, 31)\n",
      "(365, 6, 21, 31)\n"
     ]
    }
   ],
   "source": [
    "data_aorc_l = readFile('data/aorc_low/APCP_surface_2011*.nc', 'APCP_surface', 24, 21, 31)\n",
    "data_aorc_l = data_aorc_l.reshape(-1, 6, 4, 21, 31).sum(axis=2)\n",
    "mean_val = np.nanmean(data_aorc_l)\n",
    "data_aorc_l = np.where(np.isnan(data_aorc_l), mean_val, data_aorc_l)\n",
    "print(data_aorc_l.shape)"
   ]
  },
  {
   "cell_type": "code",
   "execution_count": 5,
   "id": "976fd62e-fd2a-42fe-b347-991109277583",
   "metadata": {},
   "outputs": [
    {
     "name": "stdout",
     "output_type": "stream",
     "text": [
      "(486, 1, 18, 21, 31)\n",
      "(486, 1, 72, 126, 186)\n"
     ]
    }
   ],
   "source": [
    "input, target = make_temporal_batches(data_aorc_l, data_aorc)\n",
    "print(input.shape)\n",
    "print(target.shape)"
   ]
  },
  {
   "cell_type": "code",
   "execution_count": 6,
   "id": "44c6f342-e567-43e2-bf3d-ce40570c6ed1",
   "metadata": {},
   "outputs": [
    {
     "name": "stdout",
     "output_type": "stream",
     "text": [
      "Remaining: 32191.12 MB\n",
      "Total: 32501.12 MB\n"
     ]
    }
   ],
   "source": [
    "free_mem, total_mem = torch.cuda.mem_get_info()\n",
    "free_mem_MB = free_mem / 1024**2\n",
    "total_mem_MB = total_mem / 1024**2\n",
    "\n",
    "print(f\"Remaining: {free_mem_MB:.2f} MB\")\n",
    "print(f\"Total: {total_mem_MB:.2f} MB\")"
   ]
  },
  {
   "cell_type": "code",
   "execution_count": null,
   "id": "b7dbae0b-9990-4e18-94b6-874b5e6b47a9",
   "metadata": {
    "jp-MarkdownHeadingCollapsed": true
   },
   "outputs": [],
   "source": [
    "train(input, target)"
   ]
  }
 ],
 "metadata": {
  "kernelspec": {
   "display_name": "SpateGAN_era5",
   "language": "python",
   "name": "myenv"
  },
  "language_info": {
   "codemirror_mode": {
    "name": "ipython",
    "version": 3
   },
   "file_extension": ".py",
   "mimetype": "text/x-python",
   "name": "python",
   "nbconvert_exporter": "python",
   "pygments_lexer": "ipython3",
   "version": "3.13.2"
  }
 },
 "nbformat": 4,
 "nbformat_minor": 5
}
