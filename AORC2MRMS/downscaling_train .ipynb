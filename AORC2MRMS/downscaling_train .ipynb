{
 "cells": [
  {
   "cell_type": "markdown",
   "id": "e2b1934b",
   "metadata": {},
   "source": [
    "#### spateGAN-ERA5 spatiotemporal precipitation downscaling example\n",
    "https://doi.org/10.48550/arXiv.2411.16098"
   ]
  },
  {
   "cell_type": "code",
   "execution_count": 1,
   "id": "6a9cb56e-a51d-4709-aa0c-4521887d90b1",
   "metadata": {},
   "outputs": [],
   "source": [
    "%load_ext autoreload\n",
    "%autoreload 2\n",
    "import torch\n",
    "from model import Generator  \n",
    "from train import train, validation\n",
    "from data import readFile, make_temporal_batches, block_average_pooling\n",
    "import xarray as xr\n",
    "import numpy as np\n",
    "from einops import rearrange"
   ]
  },
  {
   "cell_type": "code",
   "execution_count": 2,
   "id": "8288442a-e03c-41d2-a166-6e5972b4b3e0",
   "metadata": {},
   "outputs": [
    {
     "name": "stdout",
     "output_type": "stream",
     "text": [
      "cpu\n"
     ]
    }
   ],
   "source": [
    "device = torch.device('cuda' if torch.cuda.is_available() else 'cpu')\n",
    "print(device)"
   ]
  },
  {
   "cell_type": "markdown",
   "id": "3b35eeef-7193-4377-917f-6d9335757717",
   "metadata": {},
   "source": [
    "#### load model and weights and run the model\n"
   ]
  },
  {
   "cell_type": "markdown",
   "id": "8871f635-27fe-43f4-95ee-c35124020a29",
   "metadata": {
    "jp-MarkdownHeadingCollapsed": true
   },
   "source": [
    "#### AORC to MRMS"
   ]
  },
  {
   "cell_type": "code",
   "execution_count": 4,
   "id": "f6b4f585-191a-442b-8c35-ddd8026f817f",
   "metadata": {},
   "outputs": [
    {
     "name": "stdout",
     "output_type": "stream",
     "text": [
      "final shape (20, 720, 105, 155)\n",
      "(480, 6, 105, 155)\n",
      "final shape (20, 24, 21, 31)\n",
      "(480, 1, 21, 31)\n",
      "(96, 1, 5, 21, 31)\n",
      "(96, 1, 30, 105, 155)\n"
     ]
    }
   ],
   "source": [
    "mrms = readFile('data/mrms/mrms_nystate_*.nc', 'mrms', 720, 105, 155)\n",
    "mrms = mrms.reshape(-1, 144, 5, 105, 155).mean(axis=2)\n",
    "mrms = mrms.reshape(-1, 6, 105, 155)\n",
    "mean_val = np.nanmean(mrms)\n",
    "mrms = np.where(np.isnan(mrms), 0.0, mrms)\n",
    "print(mrms.shape)\n",
    "\n",
    "data_aorc = readFile('data/aorc_11/APCP_surface_*.nc', 'APCP_surface', 24, 21, 31)\n",
    "data_aorc = data_aorc.reshape(-1, 1, 21, 31)[:, :, ::-1, :]\n",
    "mean_val = np.nanmean(data_aorc)\n",
    "data_aorc = np.where(np.isnan(data_aorc), 0.0, data_aorc)\n",
    "print(data_aorc.shape)\n",
    "input, target = make_temporal_batches(data_aorc, mrms)\n",
    "print(input.shape)\n",
    "print(target.shape)"
   ]
  },
  {
   "cell_type": "code",
   "execution_count": null,
   "id": "9bc39dd5-1fdb-48d7-b173-24efd6500b18",
   "metadata": {
    "scrolled": true
   },
   "outputs": [],
   "source": [
    "train(input, target)"
   ]
  }
 ],
 "metadata": {
  "kernelspec": {
   "display_name": "SpateGAN_era5",
   "language": "python",
   "name": "myenv"
  },
  "language_info": {
   "codemirror_mode": {
    "name": "ipython",
    "version": 3
   },
   "file_extension": ".py",
   "mimetype": "text/x-python",
   "name": "python",
   "nbconvert_exporter": "python",
   "pygments_lexer": "ipython3",
   "version": "3.13.2"
  }
 },
 "nbformat": 4,
 "nbformat_minor": 5
}
